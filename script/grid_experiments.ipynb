{
 "cells": [
  {
   "cell_type": "code",
   "execution_count": 1,
   "metadata": {
    "collapsed": true
   },
   "outputs": [],
   "source": [
    "from torch.nn.modules.module import Module\n",
    "import torch\n",
    "from torch.autograd import Variable\n",
    "import numpy as np"
   ]
  },
  {
   "cell_type": "code",
   "execution_count": 2,
   "metadata": {
    "collapsed": false
   },
   "outputs": [],
   "source": [
    "class AffineGridGenV2(Module):\n",
    "    def __init__(self, height, width, lr = 1, aux_loss = False):\n",
    "        super(AffineGridGenV2, self).__init__()\n",
    "        self.height, self.width = height, width\n",
    "        self.aux_loss = aux_loss\n",
    "        self.lr = lr\n",
    "        \n",
    "        self.grid = np.zeros( [self.height, self.width, 3], dtype=np.float32)\n",
    "        self.grid[:,:,0] = np.expand_dims(np.repeat(np.expand_dims(np.arange(-1, 1, 2.0/self.height), 0), repeats = self.width, axis = 0).T, 0)\n",
    "        self.grid[:,:,1] = np.expand_dims(np.repeat(np.expand_dims(np.arange(-1, 1, 2.0/self.width), 0), repeats = self.height, axis = 0), 0)\n",
    "        self.grid[:,:,2] = np.ones([self.height, width])\n",
    "        self.grid = torch.from_numpy(self.grid.astype(np.float32))\n",
    "        \n",
    "        \n",
    "    def forward(self, input1):\n",
    "        self.batchgrid = torch.zeros(torch.Size([input1.size(0)]) + self.grid.size())\n",
    "\n",
    "        for i in range(input1.size(0)):\n",
    "            self.batchgrid[i] = self.grid\n",
    "        self.batchgrid = Variable(self.batchgrid)\n",
    "        output = torch.bmm(self.batchgrid.view(-1, self.height*self.width, 3), torch.transpose(input1, 1, 2)).view(-1, self.height, self.width, 2)\n",
    "        \n",
    "        return output"
   ]
  },
  {
   "cell_type": "code",
   "execution_count": 27,
   "metadata": {
    "collapsed": true
   },
   "outputs": [],
   "source": [
    "class DenseAffineGridGen(Module):\n",
    "    def __init__(self, height, width, lr = 1, aux_loss = False):\n",
    "        super(DenseAffineGridGen, self).__init__()\n",
    "        self.height, self.width = height, width\n",
    "        self.aux_loss = aux_loss\n",
    "        self.lr = lr\n",
    "        \n",
    "        self.grid = np.zeros( [self.height, self.width, 3], dtype=np.float32)\n",
    "        self.grid[:,:,0] = np.expand_dims(np.repeat(np.expand_dims(np.arange(-1, 1, 2.0/self.height), 0), repeats = self.width, axis = 0).T, 0)\n",
    "        self.grid[:,:,1] = np.expand_dims(np.repeat(np.expand_dims(np.arange(-1, 1, 2.0/self.width), 0), repeats = self.height, axis = 0), 0)\n",
    "        self.grid[:,:,2] = np.ones([self.height, width])\n",
    "        self.grid = torch.from_numpy(self.grid.astype(np.float32))\n",
    "        \n",
    "        \n",
    "    def forward(self, input1):\n",
    "        self.batchgrid = torch.zeros(torch.Size([input1.size(0)]) + self.grid.size())\n",
    "\n",
    "        for i in range(input1.size(0)):\n",
    "            self.batchgrid[i] = self.grid\n",
    "        \n",
    "        self.batchgrid = Variable(self.batchgrid)\n",
    "        #print self.batchgrid,  input1[:,:,:,0:3]\n",
    "        #print self.batchgrid,  input1[:,:,:,4:6]\n",
    "        x = torch.mul(self.batchgrid, input1[:,:,:,0:3])\n",
    "        y = torch.mul(self.batchgrid, input1[:,:,:,3:6])\n",
    "        \n",
    "        output = torch.cat([torch.sum(x,3),torch.sum(y,3)], 3)\n",
    "        return output"
   ]
  },
  {
   "cell_type": "code",
   "execution_count": 28,
   "metadata": {
    "collapsed": false
   },
   "outputs": [],
   "source": [
    "g = AffineGridGenV2(3,5)"
   ]
  },
  {
   "cell_type": "code",
   "execution_count": 29,
   "metadata": {
    "collapsed": true
   },
   "outputs": [],
   "source": [
    "input = Variable(torch.from_numpy(np.array([[[1, 0.5, 0], [0.5, 1, 0]]], dtype=np.float32)), requires_grad = True)"
   ]
  },
  {
   "cell_type": "code",
   "execution_count": 30,
   "metadata": {
    "collapsed": false
   },
   "outputs": [
    {
     "name": "stdout",
     "output_type": "stream",
     "text": [
      "Variable containing:\n",
      "(0 ,.,.) = \n",
      "  1.0000  0.5000  0.0000\n",
      "  0.5000  1.0000  0.0000\n",
      "[torch.FloatTensor of size 1x2x3]\n",
      "\n"
     ]
    }
   ],
   "source": [
    "print input\n",
    "out = g(input)"
   ]
  },
  {
   "cell_type": "code",
   "execution_count": 31,
   "metadata": {
    "collapsed": false
   },
   "outputs": [],
   "source": [
    "rnd = torch.rand((1,3,5,2))"
   ]
  },
  {
   "cell_type": "code",
   "execution_count": 32,
   "metadata": {
    "collapsed": false
   },
   "outputs": [],
   "source": [
    "out.backward(rnd)"
   ]
  },
  {
   "cell_type": "code",
   "execution_count": 33,
   "metadata": {
    "collapsed": false
   },
   "outputs": [
    {
     "data": {
      "text/plain": [
       "Variable containing:\n",
       "(0 ,.,.) = \n",
       " -3.0555 -2.0090  7.6003\n",
       " -1.2794 -1.7730  5.7409\n",
       "[torch.FloatTensor of size 1x2x3]"
      ]
     },
     "execution_count": 33,
     "metadata": {},
     "output_type": "execute_result"
    }
   ],
   "source": [
    "input.grad"
   ]
  },
  {
   "cell_type": "code",
   "execution_count": 34,
   "metadata": {
    "collapsed": true
   },
   "outputs": [],
   "source": [
    "g = DenseAffineGridGen(3,5)"
   ]
  },
  {
   "cell_type": "code",
   "execution_count": 35,
   "metadata": {
    "collapsed": true
   },
   "outputs": [],
   "source": [
    "input = Variable(torch.rand((1,3,5,6)), requires_grad = True)"
   ]
  },
  {
   "cell_type": "code",
   "execution_count": 38,
   "metadata": {
    "collapsed": false
   },
   "outputs": [],
   "source": [
    "out = g(input)\n",
    "out.backward(rnd)"
   ]
  },
  {
   "cell_type": "code",
   "execution_count": 39,
   "metadata": {
    "collapsed": false
   },
   "outputs": [
    {
     "data": {
      "text/plain": [
       "Variable containing:\n",
       "(0 ,0 ,.,.) = \n",
       " -0.7175 -0.7175  0.7175 -0.1054 -0.1054  0.1054\n",
       " -0.1534 -0.0920  0.1534 -0.0064 -0.0039  0.0064\n",
       " -0.7153 -0.1431  0.7153 -0.4376 -0.0875  0.4376\n",
       " -0.2002  0.0400  0.2002 -0.7665  0.1533  0.7665\n",
       " -0.7103  0.4262  0.7103 -0.1890  0.1134  0.1890\n",
       "\n",
       "(0 ,1 ,.,.) = \n",
       " -0.2301 -0.6903  0.6903 -0.1463 -0.4389  0.4389\n",
       " -0.2595 -0.4671  0.7785 -0.0549 -0.0989  0.1648\n",
       " -0.2411 -0.1446  0.7232 -0.2792 -0.1675  0.8376\n",
       " -0.1337  0.0802  0.4012 -0.0671  0.0402  0.2012\n",
       " -0.2656  0.4781  0.7968 -0.0457  0.0822  0.1370\n",
       "\n",
       "(0 ,2 ,.,.) = \n",
       "  0.3117 -0.9350  0.9350  0.2860 -0.8580  0.8580\n",
       "  0.0414 -0.0746  0.1243  0.2675 -0.4816  0.8026\n",
       "  0.0226 -0.0135  0.0677  0.1060 -0.0636  0.3180\n",
       "  0.0897  0.0538  0.2692  0.1197  0.0718  0.3590\n",
       "  0.1058  0.1904  0.3173  0.0396  0.0713  0.1188\n",
       "[torch.FloatTensor of size 1x3x5x6]"
      ]
     },
     "execution_count": 39,
     "metadata": {},
     "output_type": "execute_result"
    }
   ],
   "source": [
    "input.grad"
   ]
  },
  {
   "cell_type": "code",
   "execution_count": null,
   "metadata": {
    "collapsed": true
   },
   "outputs": [],
   "source": []
  },
  {
   "cell_type": "code",
   "execution_count": null,
   "metadata": {
    "collapsed": true
   },
   "outputs": [],
   "source": []
  },
  {
   "cell_type": "code",
   "execution_count": null,
   "metadata": {
    "collapsed": true
   },
   "outputs": [],
   "source": []
  }
 ],
 "metadata": {
  "kernelspec": {
   "display_name": "Python 2",
   "language": "python",
   "name": "python2"
  },
  "language_info": {
   "codemirror_mode": {
    "name": "ipython",
    "version": 2
   },
   "file_extension": ".py",
   "mimetype": "text/x-python",
   "name": "python",
   "nbconvert_exporter": "python",
   "pygments_lexer": "ipython2",
   "version": "2.7.12"
  }
 },
 "nbformat": 4,
 "nbformat_minor": 2
}
